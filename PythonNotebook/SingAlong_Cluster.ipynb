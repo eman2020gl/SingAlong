{
  "nbformat": 4,
  "nbformat_minor": 0,
  "metadata": {
    "colab": {
      "name": "SingAlong_Cluster.ipynb",
      "provenance": [],
      "collapsed_sections": []
    },
    "kernelspec": {
      "name": "python3",
      "display_name": "Python 3"
    },
    "accelerator": "GPU"
  },
  "cells": [
    {
      "cell_type": "code",
      "metadata": {
        "id": "uVBq5N_2NJ0J",
        "colab_type": "code",
        "colab": {
          "base_uri": "https://localhost:8080/",
          "height": 34
        },
        "outputId": "c532cbf9-bc7c-4da2-bdd2-c9e7ea0e0c3b"
      },
      "source": [
        "from google.colab import drive\n",
        "drive.mount('/content/drive')"
      ],
      "execution_count": 2,
      "outputs": [
        {
          "output_type": "stream",
          "text": [
            "Drive already mounted at /content/drive; to attempt to forcibly remount, call drive.mount(\"/content/drive\", force_remount=True).\n"
          ],
          "name": "stdout"
        }
      ]
    },
    {
      "cell_type": "code",
      "metadata": {
        "id": "jFIlXdAIOU3k",
        "colab_type": "code",
        "colab": {}
      },
      "source": [
        "import os\n",
        "import numpy as np"
      ],
      "execution_count": 40,
      "outputs": []
    },
    {
      "cell_type": "code",
      "metadata": {
        "id": "DMNZ3PwuOd9T",
        "colab_type": "code",
        "colab": {}
      },
      "source": [
        "ROOT_PATH = '/content/drive/My Drive/Lyrics/'\n",
        "os.chdir(ROOT_PATH)\n",
        "fileNameList = os.listdir(ROOT_PATH)"
      ],
      "execution_count": 41,
      "outputs": []
    },
    {
      "cell_type": "code",
      "metadata": {
        "id": "1xsIGKD-S5Kj",
        "colab_type": "code",
        "colab": {
          "base_uri": "https://localhost:8080/",
          "height": 357
        },
        "outputId": "14b86857-4094-43da-ea06-9b27e80dcaf0"
      },
      "source": [
        "fileNameList"
      ],
      "execution_count": 42,
      "outputs": [
        {
          "output_type": "execute_result",
          "data": {
            "text/plain": [
              "['Why baby why.txt',\n",
              " 'Boat Of Life.txt',\n",
              " 'Satisfied Mind.txt',\n",
              " 'Sweet Dreams.txt',\n",
              " 'Christmas is coming.txt',\n",
              " 'We have been there.txt',\n",
              " 'Daydream.txt',\n",
              " 'Tremble if you must.txt',\n",
              " 'Sweet Surrender.txt',\n",
              " 'Take me home country roads.txt',\n",
              " 'Sunshine on my shoulders.txt',\n",
              " 'I walk the line.txt',\n",
              " 'Thanks a lot.txt',\n",
              " 'My grandfathers clock.txt',\n",
              " 'Leaving on a jet plane.txt',\n",
              " 'Golden slumbers.txt',\n",
              " 'Try a little kindness.txt',\n",
              " 'By the time.txt',\n",
              " 'Wichita Lineman.txt',\n",
              " 'For you.txt']"
            ]
          },
          "metadata": {
            "tags": []
          },
          "execution_count": 42
        }
      ]
    },
    {
      "cell_type": "code",
      "metadata": {
        "id": "XFqnrX97S6Nq",
        "colab_type": "code",
        "colab": {
          "base_uri": "https://localhost:8080/",
          "height": 51
        },
        "outputId": "5d5f82d4-2f07-47e5-d6e3-1b6d34e2022c"
      },
      "source": [
        "lyricText = []\n",
        "for name in fileNameList:\n",
        "  fullPath = ROOT_PATH + name\n",
        "  songContent = open(fullPath,encoding='utf-8',errors='ignore').read()\n",
        "  #print(len(book_text))\n",
        "  lyricText.append(songContent)\n",
        "print(\"No. of files read: \" + str(len(lyricText)))\n",
        "overallText = ' '.join(lyricText)\n",
        "print(\"Length of the content from all the files: \" + str(len(overallText)))"
      ],
      "execution_count": 43,
      "outputs": [
        {
          "output_type": "stream",
          "text": [
            "No. of files read: 20\n",
            "Length of the content from all the files: 16585\n"
          ],
          "name": "stdout"
        }
      ]
    },
    {
      "cell_type": "code",
      "metadata": {
        "id": "QfgQ0VSvWliA",
        "colab_type": "code",
        "colab": {
          "base_uri": "https://localhost:8080/",
          "height": 51
        },
        "outputId": "d5d5c6bd-38db-476d-cd19-ba7a9e74ce09"
      },
      "source": [
        "from sklearn.feature_extraction.text import TfidfVectorizer\n",
        "import nltk\n",
        "nltk.download('stopwords')\n",
        "from nltk.corpus import stopwords"
      ],
      "execution_count": 53,
      "outputs": [
        {
          "output_type": "stream",
          "text": [
            "[nltk_data] Downloading package stopwords to /root/nltk_data...\n",
            "[nltk_data]   Package stopwords is already up-to-date!\n"
          ],
          "name": "stdout"
        }
      ]
    },
    {
      "cell_type": "code",
      "metadata": {
        "id": "QaEvl576drsD",
        "colab_type": "code",
        "colab": {}
      },
      "source": [
        " tfidVect = TfidfVectorizer(stop_words=stopwords.words('english'),max_features=5000, max_df = 0.5, use_idf = True, ngram_range=(1,3),)"
      ],
      "execution_count": 54,
      "outputs": []
    },
    {
      "cell_type": "code",
      "metadata": {
        "id": "SdV31zuXefHN",
        "colab_type": "code",
        "colab": {}
      },
      "source": [
        "X = tfidVect.fit_transform(lyricText)"
      ],
      "execution_count": 55,
      "outputs": []
    },
    {
      "cell_type": "code",
      "metadata": {
        "id": "4Uh77eRBe35l",
        "colab_type": "code",
        "colab": {
          "base_uri": "https://localhost:8080/",
          "height": 34
        },
        "outputId": "1c0538f6-dc39-46fc-c356-7d644474d86d"
      },
      "source": [
        "X.shape"
      ],
      "execution_count": 56,
      "outputs": [
        {
          "output_type": "execute_result",
          "data": {
            "text/plain": [
              "(20, 2710)"
            ]
          },
          "metadata": {
            "tags": []
          },
          "execution_count": 56
        }
      ]
    },
    {
      "cell_type": "code",
      "metadata": {
        "id": "tvWS5iy9e5am",
        "colab_type": "code",
        "colab": {}
      },
      "source": [
        "from sklearn.cluster import KMeans\n",
        "num_clusters = 4\n",
        "model = KMeans(n_clusters=num_clusters)\n",
        "model.fit(X)\n",
        "cluster_labels = model.labels_.tolist()"
      ],
      "execution_count": 57,
      "outputs": []
    },
    {
      "cell_type": "code",
      "metadata": {
        "id": "ugToGqXmfOS9",
        "colab_type": "code",
        "colab": {}
      },
      "source": [
        "labelsArray = model.labels_"
      ],
      "execution_count": 58,
      "outputs": []
    },
    {
      "cell_type": "code",
      "metadata": {
        "id": "1CUlB6oexxfI",
        "colab_type": "code",
        "colab": {
          "base_uri": "https://localhost:8080/",
          "height": 51
        },
        "outputId": "9545ae26-8080-4ee8-8f7e-3d85392f33b8"
      },
      "source": [
        "labelsArray"
      ],
      "execution_count": 59,
      "outputs": [
        {
          "output_type": "execute_result",
          "data": {
            "text/plain": [
              "array([2, 1, 1, 1, 3, 0, 0, 3, 1, 2, 2, 0, 3, 1, 1, 2, 3, 0, 0, 1],\n",
              "      dtype=int32)"
            ]
          },
          "metadata": {
            "tags": []
          },
          "execution_count": 59
        }
      ]
    },
    {
      "cell_type": "code",
      "metadata": {
        "id": "HCFRQzvUvoSL",
        "colab_type": "code",
        "colab": {}
      },
      "source": [
        "lyricsClassDict = {}\n",
        "for index in range(0,len(fileNameList)):\n",
        "  fName = fileNameList[index][0:fileNameList[index].find('.')]\n",
        "  lyricsClassDict.update({fName:labelsArray[index]})\n",
        "  "
      ],
      "execution_count": 60,
      "outputs": []
    },
    {
      "cell_type": "code",
      "metadata": {
        "id": "VI5Fms6UwniY",
        "colab_type": "code",
        "colab": {
          "base_uri": "https://localhost:8080/",
          "height": 357
        },
        "outputId": "a62f20a8-f023-4aa5-aab4-c6f712599bcf"
      },
      "source": [
        "lyricsClassDict"
      ],
      "execution_count": 61,
      "outputs": [
        {
          "output_type": "execute_result",
          "data": {
            "text/plain": [
              "{'Boat Of Life': 1,\n",
              " 'By the time': 0,\n",
              " 'Christmas is coming': 3,\n",
              " 'Daydream': 0,\n",
              " 'For you': 1,\n",
              " 'Golden slumbers': 2,\n",
              " 'I walk the line': 0,\n",
              " 'Leaving on a jet plane': 1,\n",
              " 'My grandfathers clock': 1,\n",
              " 'Satisfied Mind': 1,\n",
              " 'Sunshine on my shoulders': 2,\n",
              " 'Sweet Dreams': 1,\n",
              " 'Sweet Surrender': 1,\n",
              " 'Take me home country roads': 2,\n",
              " 'Thanks a lot': 3,\n",
              " 'Tremble if you must': 3,\n",
              " 'Try a little kindness': 3,\n",
              " 'We have been there': 0,\n",
              " 'Why baby why': 2,\n",
              " 'Wichita Lineman': 0}"
            ]
          },
          "metadata": {
            "tags": []
          },
          "execution_count": 61
        }
      ]
    }
  ]
}